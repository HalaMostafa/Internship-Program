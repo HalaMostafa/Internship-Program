{
 "cells": [
  {
   "cell_type": "markdown",
   "metadata": {},
   "source": [
    "# Methods for handling missing values\n",
    "**pandas provides the following methods to handle missing values:**\n",
    "\n",
    "- `isna`: Returns a Series of booleans based on whether each value is missing or not.\n",
    "- `notna`: Exact opposite of isna.\n",
    "- `fillna`: Fills missing values in a variety of ways\n",
    "- `dropna`: Drops the missing values from the Series"
   ]
  },
  {
   "cell_type": "code",
   "execution_count": null,
   "metadata": {},
   "outputs": [],
   "source": [
    "import pandas as pd"
   ]
  },
  {
   "cell_type": "code",
   "execution_count": null,
   "metadata": {},
   "outputs": [],
   "source": [
    "# let us wread movie dataset\n",
    "movie = pd.read_csv(\"data/movie.csv\")"
   ]
  },
  {
   "cell_type": "code",
   "execution_count": null,
   "metadata": {},
   "outputs": [],
   "source": [
    "#show first five rows in movie :\n",
    "movie.head()"
   ]
  },
  {
   "cell_type": "code",
   "execution_count": null,
   "metadata": {},
   "outputs": [],
   "source": [
    "# to check if any cell has missing value in the movie dataset:\n",
    "movie.isna()"
   ]
  },
  {
   "cell_type": "code",
   "execution_count": null,
   "metadata": {},
   "outputs": [],
   "source": [
    "# we can use the sum function it will sum each column in the df and scince it is boolean it will return number of missing values\n",
    "movie.isna().sum()"
   ]
  },
  {
   "cell_type": "code",
   "execution_count": null,
   "metadata": {},
   "outputs": [],
   "source": [
    "#number of missing values in year column\n",
    "movie[\"year\"].isna().sum()\n"
   ]
  },
  {
   "cell_type": "code",
   "execution_count": null,
   "metadata": {},
   "outputs": [],
   "source": [
    "#get all rows in which the year column is missing\n",
    "filter_1 = movie[\"year\"].isna()\n",
    "missing_year = movie[filter_1]\n"
   ]
  },
  {
   "cell_type": "code",
   "execution_count": null,
   "metadata": {},
   "outputs": [],
   "source": [
    "# count method wil count each non missing value in the column, here it the same as notna().sum()\n",
    "print(movie[\"year\"].count())\n",
    "print(movie[\"year\"].notna().sum())"
   ]
  },
  {
   "cell_type": "markdown",
   "metadata": {},
   "source": [
    "# use fillna to fill missing values\n",
    "https://pandas.pydata.org/docs/reference/api/pandas.DataFrame.fillna.html"
   ]
  },
  {
   "cell_type": "code",
   "execution_count": null,
   "metadata": {},
   "outputs": [],
   "source": [
    "movie.info()"
   ]
  },
  {
   "cell_type": "code",
   "execution_count": null,
   "metadata": {},
   "outputs": [],
   "source": [
    "# fill any missing year with 2024, \n",
    "movie[\"year\"].fillna(2024)"
   ]
  },
  {
   "cell_type": "markdown",
   "metadata": {},
   "source": [
    "movie.info()"
   ]
  },
  {
   "cell_type": "code",
   "execution_count": null,
   "metadata": {},
   "outputs": [],
   "source": [
    "movie[\"year\"].fillna(2024,inplace=True)"
   ]
  },
  {
   "cell_type": "code",
   "execution_count": null,
   "metadata": {},
   "outputs": [],
   "source": [
    "movie.info()"
   ]
  },
  {
   "cell_type": "code",
   "execution_count": null,
   "metadata": {},
   "outputs": [],
   "source": [
    "complete_year[complete_year[\"year\"]==2024]"
   ]
  },
  {
   "cell_type": "code",
   "execution_count": null,
   "metadata": {},
   "outputs": [],
   "source": [
    "#use dropna to drop missing values.\n",
    "#drop any row in which year is missing\n",
    "movie = movie.dropna(subset=[\"year\"])\n",
    "movie.info()"
   ]
  },
  {
   "cell_type": "markdown",
   "metadata": {},
   "source": [
    "### Exrcises:"
   ]
  },
  {
   "cell_type": "code",
   "execution_count": null,
   "metadata": {},
   "outputs": [],
   "source": [
    "# filter rows in which color is missing"
   ]
  },
  {
   "cell_type": "code",
   "execution_count": null,
   "metadata": {},
   "outputs": [],
   "source": [
    "#drop rows in which color is missing --new variable"
   ]
  },
  {
   "cell_type": "code",
   "execution_count": null,
   "metadata": {},
   "outputs": [],
   "source": [
    "#fill rows in which color is missing with \"Color\""
   ]
  },
  {
   "cell_type": "markdown",
   "metadata": {},
   "source": [
    "# Sorting:\n",
    "\n",
    "The `sort_values` method sorts the Series `from least to greatest by default`. \n",
    "\n",
    "It places `missing values at the end`."
   ]
  },
  {
   "cell_type": "code",
   "execution_count": null,
   "metadata": {},
   "outputs": [],
   "source": [
    "df = pd.DataFrame({\n",
    "'col1': ['A', 'A', 'B', None, 'D', 'C'],\n",
    "  'col2': [2, 1, 9, 8, 7, 4],\n",
    "  'col3': [0, 1, 9, 4, 2, 3],\n",
    "  'col4': ['a', 'B', 'c', 'D', 'e', 'F']\n",
    "})\n",
    "df "
   ]
  },
  {
   "cell_type": "code",
   "execution_count": null,
   "metadata": {},
   "outputs": [],
   "source": [
    "df.sort_values(by=['col1'])"
   ]
  },
  {
   "cell_type": "code",
   "execution_count": null,
   "metadata": {},
   "outputs": [],
   "source": [
    "#Sort by multiple columns\n",
    "df.sort_values(by=['col1', 'col2'])"
   ]
  },
  {
   "cell_type": "code",
   "execution_count": null,
   "metadata": {},
   "outputs": [],
   "source": [
    "#Sort Descending\n",
    "df.sort_values(by='col1', ascending=False)"
   ]
  },
  {
   "cell_type": "code",
   "execution_count": null,
   "metadata": {},
   "outputs": [],
   "source": [
    "#Putting NAs first\n",
    "df.sort_values(by='col1', ascending=False, na_position='first')"
   ]
  },
  {
   "cell_type": "code",
   "execution_count": null,
   "metadata": {},
   "outputs": [],
   "source": [
    "movieDf = pd.read_csv(\"data/movie.csv\")"
   ]
  },
  {
   "cell_type": "code",
   "execution_count": null,
   "metadata": {},
   "outputs": [],
   "source": [
    "movieDf.head()"
   ]
  },
  {
   "cell_type": "markdown",
   "metadata": {},
   "source": [
    "#pandas sort_values with examples:\n",
    "https://pandas.pydata.org/docs/reference/api/pandas.DataFrame.sort_values.html"
   ]
  },
  {
   "cell_type": "code",
   "execution_count": null,
   "metadata": {},
   "outputs": [],
   "source": [
    "movieDf.sort_values(by=\"year\",ascending=False)# ascending=False if we want desc order"
   ]
  },
  {
   "cell_type": "code",
   "execution_count": null,
   "metadata": {},
   "outputs": [],
   "source": [
    "movieDf.sort_values(by=\"title\")# ascending=False if we want desc order"
   ]
  },
  {
   "cell_type": "markdown",
   "metadata": {},
   "source": [
    "## Exercises\n",
    "\n",
    "### Exercise 1\n",
    "<span  style=\"color:green; font-size:16px\">What percentage of actor 1 Facebook likes are missing?</span>\n",
    "\n",
    "\n",
    "### Exercise 2\n",
    "<span  style=\"color:green; font-size:16px\">Use the notna method to find the number of non-missing values in the actor 1 Facebook like column. Verify this\n",
    "number is the same as the count method.\n",
    "\n",
    "### Exercise 3\n",
    "<span  style=\"color:green; font-size:16px\">Use one line of code to fill the missing values of actor1_fb with the maximum of actor2_fb. Save this result to\n",
    "variable actor1_fb_full</span>\n",
    "\n",
    "### Exercise 4\n",
    "<span  style=\"color:green; font-size:16px\">Verify the results of problem 3 by selecting just the values of actor1_fb_full that were filled by actor2_fb.</span>\n"
   ]
  },
  {
   "cell_type": "markdown",
   "metadata": {},
   "source": [
    "# Uniqueness\n",
    "\n",
    "**There are a few methods that deal with unique values in a Series:**\n",
    "\n",
    "- `unique`: Returns a numpy array of all the unique values in order of their appearance\n",
    "- `nunique`: Returns the number of unique values in the Series\n",
    "- `drop_duplicates`: Returns a pandas Series of just the unique values\n",
    "- `duplicated` : check if there is any dup;icate value"
   ]
  },
  {
   "cell_type": "code",
   "execution_count": null,
   "metadata": {},
   "outputs": [],
   "source": [
    "movieDf[\"year\"].unique()"
   ]
  },
  {
   "cell_type": "code",
   "execution_count": null,
   "metadata": {},
   "outputs": [],
   "source": [
    "movieDf[\"year\"].nunique()"
   ]
  },
  {
   "cell_type": "code",
   "execution_count": null,
   "metadata": {},
   "outputs": [],
   "source": [
    "# count the number of unique values "
   ]
  },
  {
   "cell_type": "code",
   "execution_count": null,
   "metadata": {},
   "outputs": [],
   "source": [
    "df= pd.DataFrame({\"id\":[1,2,3,4,4],\"name\":[\"Ahmed\",\"Ahmed\",\"Mohamed\",\"sara\",\"sara\"]})\n",
    "df"
   ]
  },
  {
   "cell_type": "code",
   "execution_count": null,
   "metadata": {},
   "outputs": [],
   "source": [
    "#check if a row is dulpicate\n",
    "df.duplicated().sum()"
   ]
  },
  {
   "cell_type": "code",
   "execution_count": null,
   "metadata": {},
   "outputs": [],
   "source": [
    "df.duplicated()"
   ]
  },
  {
   "cell_type": "code",
   "execution_count": null,
   "metadata": {},
   "outputs": [],
   "source": [
    "#drop entire duplicate row\n",
    "df.drop_duplicates()"
   ]
  },
  {
   "cell_type": "code",
   "execution_count": null,
   "metadata": {},
   "outputs": [],
   "source": [
    "df"
   ]
  },
  {
   "cell_type": "code",
   "execution_count": null,
   "metadata": {},
   "outputs": [],
   "source": [
    "#check if name has duplicates\n",
    "df.duplicated(subset=[\"name\"])"
   ]
  },
  {
   "cell_type": "code",
   "execution_count": null,
   "metadata": {},
   "outputs": [],
   "source": [
    "df.drop_duplicates(subset=\"name\")"
   ]
  },
  {
   "cell_type": "markdown",
   "metadata": {},
   "source": []
  }
 ],
 "metadata": {
  "kernelspec": {
   "display_name": "Python 3",
   "language": "python",
   "name": "python3"
  },
  "language_info": {
   "codemirror_mode": {
    "name": "ipython",
    "version": 3
   },
   "file_extension": ".py",
   "mimetype": "text/x-python",
   "name": "python",
   "nbconvert_exporter": "python",
   "pygments_lexer": "ipython3",
   "version": "3.12.2"
  }
 },
 "nbformat": 4,
 "nbformat_minor": 2
}
